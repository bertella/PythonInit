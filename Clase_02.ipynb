{
  "nbformat": 4,
  "nbformat_minor": 0,
  "metadata": {
    "colab": {
      "provenance": [],
      "include_colab_link": true
    },
    "kernelspec": {
      "name": "python3",
      "display_name": "Python 3"
    },
    "language_info": {
      "name": "python"
    }
  },
  "cells": [
    {
      "cell_type": "markdown",
      "metadata": {
        "id": "view-in-github",
        "colab_type": "text"
      },
      "source": [
        "<a href=\"https://colab.research.google.com/github/bertella/PythonInit/blob/master/Clase_02.ipynb\" target=\"_parent\"><img src=\"https://colab.research.google.com/assets/colab-badge.svg\" alt=\"Open In Colab\"/></a>"
      ]
    },
    {
      "cell_type": "markdown",
      "source": [
        "LISTAS Y SUS FUNCIONES"
      ],
      "metadata": {
        "id": "8zOF7Md1ZQ7l"
      }
    },
    {
      "cell_type": "code",
      "execution_count": 2,
      "metadata": {
        "id": "dm55IZa-cX2X",
        "colab": {
          "base_uri": "https://localhost:8080/"
        },
        "outputId": "09f655bf-c6c9-4651-af14-e434914214c1"
      },
      "outputs": [
        {
          "output_type": "stream",
          "name": "stdout",
          "text": [
            "Lista original:\n",
            "['a', 'b', 'c', 'd', 'e', 'f', 'g', 'a', 'a']\n",
            "Copia:\n",
            "['a', 'b', 'c', 'd', 'e', 'f', 'g', 'a', 'a']\n",
            "\n",
            "\n",
            "\n",
            "APPEND:\n",
            "['a', 'b', 'c', 'd', 'e', 'f', 'g', 'a', 'a', 'e']\n",
            "\n",
            "\n",
            "\n",
            "POP:\n",
            "['a', 'b', 'c', 'd', 'e', 'f', 'g', 'a', 'a']\n",
            "\n",
            "\n",
            "\n",
            "POP + UBICACIÓN (Índice):\n",
            "['a', 'b', 'c', 'd', 'e', 'g', 'a', 'a']\n",
            "\n",
            "\n",
            "\n",
            "LEN:\n",
            "8\n",
            "\n",
            "\n",
            "\n",
            "INDEX:\n",
            "5\n",
            "\n",
            "\n",
            "\n",
            "COUNT:\n",
            "3\n"
          ]
        }
      ],
      "source": [
        "lista_de_letras = [\"a\", \"b\", \"c\", \"d\", \"e\", \"f\", \"g\", \"a\", \"a\"]\n",
        "\n",
        "# Copiar lista entera\n",
        "esto_es_una_copia = lista_de_letras[:]\n",
        "\n",
        "print(\"Lista original:\")\n",
        "print(lista_de_letras)\n",
        "print(\"Copia:\")\n",
        "print(esto_es_una_copia)\n",
        "print(\"\\n\\n\")\n",
        "\n",
        "# Agregamos un elemento al final de la lista: append()\n",
        "lista_de_letras.append(\"e\")\n",
        "\n",
        "print(\"APPEND:\")\n",
        "print(lista_de_letras)\n",
        "print(\"\\n\\n\")\n",
        "\n",
        "# Eliminamos el último elemento de la lista: pop()\n",
        "lista_de_letras.pop()\n",
        "\n",
        "print(\"POP:\")\n",
        "print(lista_de_letras)\n",
        "print(\"\\n\\n\")\n",
        "\n",
        "# Eliminamos un elemento pasando una ubicación: pop(5)\n",
        "se_borro = lista_de_letras.pop(5)\n",
        "\n",
        "print(\"POP + UBICACIÓN (Índice):\")\n",
        "print(lista_de_letras)\n",
        "print(\"\\n\\n\")\n",
        "\n",
        "# Obtenemos el largo de una lista: len()\n",
        "largo = len(lista_de_letras)\n",
        "\n",
        "print(\"LEN:\")\n",
        "print(largo)\n",
        "print(\"\\n\\n\")\n",
        "\n",
        "# Obtenemos la posición de un elemento dentro de una lista: index()\n",
        "\n",
        "posicion = lista_de_letras.index(\"g\")\n",
        "\n",
        "print(\"INDEX:\")\n",
        "print(posicion)\n",
        "print(\"\\n\\n\")\n",
        "\n",
        "# Contamos la cantidad de veces que aparece un elemento en una lista: count()\n",
        "contador = lista_de_letras.count(\"a\")\n",
        "\n",
        "print(\"COUNT:\")\n",
        "print(contador)"
      ]
    },
    {
      "cell_type": "markdown",
      "source": [
        "TUPLAS Y SUS FUNCIONES"
      ],
      "metadata": {
        "id": "oN6sUqi5zKe5"
      }
    },
    {
      "cell_type": "code",
      "source": [
        "# Creamos una tupla con 3 valores\n",
        "esta_es_una_tupla = (1,2,3)\n",
        "print(\"Tupla original:\")\n",
        "print(esta_es_una_tupla)\n",
        "print(\"\\n\\n\")\n",
        "\n",
        "# Concatenación de Tuplas y reasignación\n",
        "esta_es_una_tupla = esta_es_una_tupla + (4,5,6)\n",
        "print(\"CONCATENACIÓN:\")\n",
        "print(esta_es_una_tupla)\n",
        "print(\"\\n\\n\")\n",
        "\n",
        "# Las tuplas no son mutables, por eso ésta línea genera error al intentar modificar el valor de la posición 2 de la tupla\n",
        "esta_es_una_tupla[2] = 5\n",
        "# ERROR"
      ],
      "metadata": {
        "id": "wOYSlG_LzJt5",
        "colab": {
          "base_uri": "https://localhost:8080/",
          "height": 409
        },
        "outputId": "12466af0-9dbd-4659-e612-e6d1dbdca87c"
      },
      "execution_count": null,
      "outputs": [
        {
          "output_type": "stream",
          "name": "stdout",
          "text": [
            "Tupla original:\n",
            "(1, 2, 3)\n",
            "\n",
            "\n",
            "\n",
            "CONCATENACIÓN:\n",
            "(1, 2, 3, 4, 5, 6)\n",
            "\n",
            "\n",
            "\n"
          ]
        },
        {
          "output_type": "error",
          "ename": "TypeError",
          "evalue": "ignored",
          "traceback": [
            "\u001b[0;31m---------------------------------------------------------------------------\u001b[0m",
            "\u001b[0;31mTypeError\u001b[0m                                 Traceback (most recent call last)",
            "\u001b[0;32m<ipython-input-2-33e80c7a307a>\u001b[0m in \u001b[0;36m<module>\u001b[0;34m\u001b[0m\n\u001b[1;32m     12\u001b[0m \u001b[0;34m\u001b[0m\u001b[0m\n\u001b[1;32m     13\u001b[0m \u001b[0;31m# Las tuplas no son mutables, por eso ésta línea genera error al intentar modificar el valor de la posición 2 de la tupla\u001b[0m\u001b[0;34m\u001b[0m\u001b[0;34m\u001b[0m\u001b[0;34m\u001b[0m\u001b[0m\n\u001b[0;32m---> 14\u001b[0;31m \u001b[0mesta_es_una_tupla\u001b[0m\u001b[0;34m[\u001b[0m\u001b[0;36m2\u001b[0m\u001b[0;34m]\u001b[0m \u001b[0;34m=\u001b[0m \u001b[0;36m5\u001b[0m\u001b[0;34m\u001b[0m\u001b[0;34m\u001b[0m\u001b[0m\n\u001b[0m\u001b[1;32m     15\u001b[0m \u001b[0;31m# ERROR\u001b[0m\u001b[0;34m\u001b[0m\u001b[0;34m\u001b[0m\u001b[0;34m\u001b[0m\u001b[0m\n",
            "\u001b[0;31mTypeError\u001b[0m: 'tuple' object does not support item assignment"
          ]
        }
      ]
    },
    {
      "cell_type": "markdown",
      "source": [
        "MEZCLANDO LISTAS Y TUPLAS"
      ],
      "metadata": {
        "id": "X9B2C79nCHkN"
      }
    },
    {
      "cell_type": "code",
      "source": [
        "# Creamos una tupla donde su 4to elemento (posición 3) es una lista\n",
        "tupla_con_lista = (1,2,3, [\"a\", \"b\", \"c\"])\n",
        "print(\"Tupla con la lista adentro:\")\n",
        "print(tupla_con_lista)\n",
        "print(\"\\n\\n\")\n",
        "\n",
        "# Editamos el valor de la lista que está dentro de la tupla\n",
        "tupla_con_lista[3][1] = \"A\"\n",
        "print(\"Tupla original:\")\n",
        "print(tupla_con_lista)\n",
        "print(\"\\n\\n\")\n",
        "\n",
        "# Creamos una lista donde su 1er elemento (posición 0) es una tupla\n",
        "lista_con_tupla = [(\"a\", \"b\", \"c\"), 4,5,6]\n",
        "print(\"Lista con la tupla adentro:\")\n",
        "print(lista_con_tupla)\n",
        "print(\"\\n\\n\")\n",
        "\n",
        "# Editamos el valor de la tupla que está adentro de la lista\n",
        "lista_con_tupla[0][1] = \"B\"\n",
        "# ERROR\n",
        "\n",
        "# Conclusión:\n",
        "# En el primer caso, si bien accedemos a los valores de una tupla, cuando hacemos referencia a la lista ingresamos\n",
        "    # a un tipo de dato que sí es mutable, por eso sus valores pueden modificarse.\n",
        "\n",
        "# En el segundo caso, queremos editar un elemento de una tupla que no es mutable, en éste nivel no podemos editarlos."
      ],
      "metadata": {
        "id": "98vaxRiL3hbm",
        "colab": {
          "base_uri": "https://localhost:8080/",
          "height": 506
        },
        "outputId": "e0d5cf6d-efd5-40ca-b103-d3f17f93c87c"
      },
      "execution_count": 1,
      "outputs": [
        {
          "output_type": "stream",
          "name": "stdout",
          "text": [
            "Tupla con la lista adentro:\n",
            "(1, 2, 3, ['a', 'b', 'c'])\n",
            "\n",
            "\n",
            "\n",
            "Tupla original:\n",
            "(1, 2, 3, ['a', 'A', 'c'])\n",
            "\n",
            "\n",
            "\n",
            "Lista con la tupla adentro:\n",
            "[('a', 'b', 'c'), 4, 5, 6]\n",
            "\n",
            "\n",
            "\n"
          ]
        },
        {
          "output_type": "error",
          "ename": "TypeError",
          "evalue": "ignored",
          "traceback": [
            "\u001b[0;31m---------------------------------------------------------------------------\u001b[0m",
            "\u001b[0;31mTypeError\u001b[0m                                 Traceback (most recent call last)",
            "\u001b[0;32m<ipython-input-1-8a1660545ff7>\u001b[0m in \u001b[0;36m<cell line: 20>\u001b[0;34m()\u001b[0m\n\u001b[1;32m     18\u001b[0m \u001b[0;34m\u001b[0m\u001b[0m\n\u001b[1;32m     19\u001b[0m \u001b[0;31m# Editamos el valor de la tupla que está adentro de la lista\u001b[0m\u001b[0;34m\u001b[0m\u001b[0;34m\u001b[0m\u001b[0m\n\u001b[0;32m---> 20\u001b[0;31m \u001b[0mlista_con_tupla\u001b[0m\u001b[0;34m[\u001b[0m\u001b[0;36m0\u001b[0m\u001b[0;34m]\u001b[0m\u001b[0;34m[\u001b[0m\u001b[0;36m1\u001b[0m\u001b[0;34m]\u001b[0m \u001b[0;34m=\u001b[0m \u001b[0;34m\"B\"\u001b[0m\u001b[0;34m\u001b[0m\u001b[0;34m\u001b[0m\u001b[0m\n\u001b[0m\u001b[1;32m     21\u001b[0m \u001b[0;31m# ERROR\u001b[0m\u001b[0;34m\u001b[0m\u001b[0;34m\u001b[0m\u001b[0m\n\u001b[1;32m     22\u001b[0m \u001b[0;34m\u001b[0m\u001b[0m\n",
            "\u001b[0;31mTypeError\u001b[0m: 'tuple' object does not support item assignment"
          ]
        }
      ]
    }
  ]
}